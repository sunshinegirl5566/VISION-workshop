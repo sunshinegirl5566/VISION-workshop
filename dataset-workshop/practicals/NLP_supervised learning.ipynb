{
  "cells": [
    {
      "cell_type": "markdown",
      "id": "aa4b3ab3",
      "metadata": {
        "id": "aa4b3ab3"
      },
      "source": [
        "# NLP classification - supervised learning\n",
        "\n",
        "In this example, you will learn how you can use supervised learning algorithms for NLP classification. We will use documents from https://www.reddit.com/r/domesticviolence/ and https://www.reddit.com/r/emotionalabuse/ The task is to classify a document into two different types of violence:  violence or not.\n",
        "\n",
        "We will use classification algorithms as implemented in sci-kit learn, and evaluate with cross-validation before testing on unseen test data.\n",
        "\n",
        "We will experiment with different ways of representing the documents for the classifiers.\n",
        "\n",
        "material in parts from https://towardsdatascience.com/multi-class-text-classification-with-scikit-learn-12f1e60e0a9f\n",
        "\n",
        "Written by Sumithra Velupillai, March 2019 - updated February 2020"
      ]
    },
    {
      "cell_type": "markdown",
      "id": "9e61349a",
      "metadata": {
        "id": "9e61349a"
      },
      "source": [
        "# 1: Import packages"
      ]
    },
    {
      "cell_type": "code",
      "execution_count": 1,
      "id": "f88fe94c",
      "metadata": {
        "id": "f88fe94c"
      },
      "outputs": [],
      "source": [
        "%matplotlib inline\n",
        "\n",
        "import matplotlib\n",
        "import matplotlib.pyplot as plt\n",
        "\n",
        "import pandas as pd\n",
        "try:\n",
        "    import xlrd\n",
        "except ImportError as e:\n",
        "    !pip install xlrd\n",
        "    import xlrd\n",
        "\n",
        "import numpy as np\n",
        "\n",
        "import warnings; warnings.simplefilter('ignore')"
      ]
    },
    {
      "cell_type": "code",
      "execution_count": null,
      "id": "426586da",
      "metadata": {
        "id": "426586da"
      },
      "outputs": [],
      "source": [
        "# We'll use scikit-learn for the classification algorithms.\n",
        "# https://scikit-learn.org/stable/\n",
        "\n",
        "#from sklearn.naive_bayes import MultinomialNB\n",
        "from sklearn.linear_model import SGDClassifier\n",
        "from sklearn.linear_model import LogisticRegression\n",
        "from sklearn.ensemble import RandomForestClassifier\n",
        "from sklearn.svm import LinearSVC\n",
        "from sklearn.neighbors import KNeighborsClassifier\n",
        "#from sklearn.naive_bayes import GaussianNB\n",
        "from sklearn.tree import DecisionTreeClassifier\n",
        "from sklearn.svm import SVC"
      ]
    },
    {
      "cell_type": "code",
      "execution_count": null,
      "id": "172cd898",
      "metadata": {
        "id": "172cd898"
      },
      "outputs": [],
      "source": [
        "## sklearn also has some nice funtions for representations\n",
        "\n",
        "from sklearn.feature_extraction.text import TfidfTransformer\n",
        "from sklearn.feature_extraction.text import CountVectorizer\n",
        "from sklearn.feature_extraction.text import TfidfVectorizer\n",
        "\n",
        "## and for evaluation\n",
        "from sklearn.pipeline import Pipeline\n",
        "from sklearn import metrics\n",
        "from sklearn.model_selection import cross_validate\n",
        "from sklearn.model_selection import cross_val_score"
      ]
    },
    {
      "cell_type": "code",
      "execution_count": null,
      "id": "3fe187d1",
      "metadata": {
        "id": "3fe187d1",
        "outputId": "272c6e21-6908-496e-e6e9-479c3d93e0d6"
      },
      "outputs": [
        {
          "name": "stderr",
          "output_type": "stream",
          "text": [
            "[nltk_data] Downloading package punkt to /Users/lilifang/nltk_data...\n",
            "[nltk_data]   Package punkt is already up-to-date!\n",
            "[nltk_data] Downloading package stopwords to\n",
            "[nltk_data]     /Users/lilifang/nltk_data...\n",
            "[nltk_data]   Package stopwords is already up-to-date!\n"
          ]
        }
      ],
      "source": [
        "## Since we're working with text, we might need to tokenize for some of these representations. \n",
        "# We'll use nltk here, but there are other nlp packages available for this\n",
        "import nltk\n",
        "nltk.download('punkt')\n",
        "nltk.download('stopwords')\n",
        "\n",
        "from nltk.tokenize import word_tokenize\n",
        "from nltk.corpus import stopwords"
      ]
    },
    {
      "cell_type": "code",
      "execution_count": null,
      "id": "79041c0d",
      "metadata": {
        "id": "79041c0d",
        "outputId": "7c20fee3-d3f2-4140-94c4-f324e86a73d9"
      },
      "outputs": [
        {
          "name": "stdout",
          "output_type": "stream",
          "text": [
            "2022-03-12 22:10:29.938603\n"
          ]
        }
      ],
      "source": [
        "# You have also learnt about embedding representations. These can also be used for classification.\n",
        "# We will use a library called Zeugma, which allows using pre-trained embedding models\n",
        "#Zeugma library: https://github.com/nkthiebaut/zeugma\n",
        "\n",
        "try:\n",
        "    from zeugma.embeddings import EmbeddingTransformer\n",
        "except ImportError as e:\n",
        "    !pip install zeugma\n",
        "    !pip install theano\n",
        "    from zeugma.embeddings import EmbeddingTransformer\n",
        "\n",
        "from datetime import datetime\n",
        "print(datetime.now())"
      ]
    },
    {
      "cell_type": "markdown",
      "id": "190a3b0a",
      "metadata": {
        "id": "190a3b0a"
      },
      "source": [
        "# 2: Corpus \n",
        "Reading in the training data"
      ]
    },
    {
      "cell_type": "code",
      "execution_count": null,
      "id": "994b1d6b",
      "metadata": {
        "id": "994b1d6b"
      },
      "outputs": [],
      "source": [
        "#For the multiple classfication project, we try to use trainingdata['role']"
      ]
    },
    {
      "cell_type": "code",
      "execution_count": null,
      "id": "b8afa01b",
      "metadata": {
        "scrolled": true,
        "id": "b8afa01b",
        "outputId": "1211c72b-524e-4792-bd2f-fbf3807a9b9c"
      },
      "outputs": [
        {
          "name": "stdout",
          "output_type": "stream",
          "text": [
            "Index(['label', 'selftext'], dtype='object')\n",
            "0    396\n",
            "1    380\n",
            "Name: label, dtype: int64\n"
          ]
        }
      ],
      "source": [
        "csv_training = 'train2.csv'\n",
        "trainingdata = pd.read_csv(csv_training)\n",
        "print(trainingdata.columns)\n",
        "print(trainingdata['label'].value_counts()) "
      ]
    },
    {
      "cell_type": "markdown",
      "id": "bbab0598",
      "metadata": {
        "id": "bbab0598"
      },
      "source": [
        "# 3: Representation - BoW\n",
        "The most common baseline feature representation for text classification tasks is to use the bag-of-words representation, in a document-term matrix. Let's build a simple one using raw counts and only keeping a maximum of 500 features. We can use the CountVectorizer function from sklearn, and tokenize using a function from nltk."
      ]
    },
    {
      "cell_type": "code",
      "execution_count": null,
      "id": "fb60d598",
      "metadata": {
        "id": "fb60d598"
      },
      "outputs": [],
      "source": [
        "first_vectorizer = CountVectorizer(ngram_range=(1,1), stop_words=None,\n",
        "                             tokenizer=word_tokenize, max_features=500)\n",
        "first_vectorizer.fit(trainingdata['selftext'].tolist())\n",
        "first_fit_transformed_data = first_vectorizer.fit_transform(trainingdata['selftext'])"
      ]
    },
    {
      "cell_type": "code",
      "execution_count": null,
      "id": "c4a81cf6",
      "metadata": {
        "id": "c4a81cf6",
        "outputId": "75eb5f17-434b-4e41-fa10-bd02de9e6e37"
      },
      "outputs": [
        {
          "name": "stdout",
          "output_type": "stream",
          "text": [
            "a\n",
            "(776, 500)\n",
            "Amount of Non-Zero occurences:  10147\n"
          ]
        }
      ],
      "source": [
        "# What word is represented by the different indices? Have a look at a few examples.\n",
        "print (first_vectorizer.get_feature_names()[32])\n",
        "print(first_fit_transformed_data.shape)\n",
        "print ('Amount of Non-Zero occurences: ', first_fit_transformed_data.nnz)"
      ]
    },
    {
      "cell_type": "markdown",
      "id": "f803b7b6",
      "metadata": {
        "id": "f803b7b6"
      },
      "source": [
        "# 4: Classification\n",
        "Let's build a classifier with this feature representation. In text classification, many classification algorithms have been shown to work well. Sci-kit learn has implementations for many different types of classification algorithms - have a look at their website!\n",
        "\n",
        "Let's try a K nearest neighbour classifier."
      ]
    },
    {
      "cell_type": "code",
      "execution_count": null,
      "id": "f7c7e430",
      "metadata": {
        "id": "f7c7e430"
      },
      "outputs": [],
      "source": [
        "\n",
        "#kneighbour_classifier = KNeighborsClassifier().fit(first_fit_transformed_data, trainingdata['role'])"
      ]
    },
    {
      "cell_type": "markdown",
      "id": "2a23d0ab",
      "metadata": {
        "id": "2a23d0ab"
      },
      "source": [
        "We now have a trained model. But how do we know how well it works? Let's evaluate it on the test data."
      ]
    },
    {
      "cell_type": "code",
      "execution_count": null,
      "id": "352e2a47",
      "metadata": {
        "id": "352e2a47",
        "outputId": "d272ca76-27c9-4d3e-e9cf-2ee0e51ecb85"
      },
      "outputs": [
        {
          "data": {
            "text/plain": [
              "1    110\n",
              "0     90\n",
              "Name: label, dtype: int64"
            ]
          },
          "execution_count": 36,
          "metadata": {},
          "output_type": "execute_result"
        }
      ],
      "source": [
        "csv_test = 'test2.csv'\n",
        "testdata = pd.read_csv(csv_test)\n",
        "testdata['label'].value_counts()"
      ]
    },
    {
      "cell_type": "code",
      "execution_count": null,
      "id": "2800ecf0",
      "metadata": {
        "id": "2800ecf0",
        "outputId": "ee02eeae-e8e2-4e72-d199-a465d649a056"
      },
      "outputs": [
        {
          "name": "stdout",
          "output_type": "stream",
          "text": [
            "  (0, 52)\t1\n",
            "  (0, 153)\t1\n",
            "  (0, 159)\t1\n",
            "  (0, 170)\t1\n",
            "  (0, 200)\t1\n",
            "  (0, 277)\t1\n",
            "  (0, 297)\t1\n",
            "  (1, 34)\t1\n",
            "  (1, 65)\t1\n",
            "  (1, 96)\t1\n",
            "  (1, 224)\t1\n",
            "  (1, 256)\t1\n",
            "  (1, 313)\t1\n",
            "  (1, 324)\t1\n",
            "  (1, 334)\t1\n",
            "  (1, 413)\t1\n",
            "  (1, 419)\t2\n",
            "  (1, 422)\t1\n",
            "  (1, 482)\t1\n",
            "  (2, 203)\t1\n",
            "  (2, 224)\t1\n",
            "  (2, 230)\t1\n",
            "  (2, 424)\t1\n",
            "  (2, 431)\t1\n",
            "  (2, 462)\t2\n",
            "  :\t:\n",
            "  (197, 134)\t1\n",
            "  (197, 220)\t1\n",
            "  (197, 224)\t1\n",
            "  (197, 488)\t1\n",
            "  (198, 6)\t1\n",
            "  (198, 8)\t1\n",
            "  (198, 32)\t1\n",
            "  (198, 51)\t1\n",
            "  (198, 81)\t1\n",
            "  (198, 203)\t1\n",
            "  (198, 224)\t1\n",
            "  (198, 313)\t1\n",
            "  (198, 457)\t1\n",
            "  (199, 33)\t1\n",
            "  (199, 38)\t1\n",
            "  (199, 56)\t1\n",
            "  (199, 175)\t1\n",
            "  (199, 208)\t1\n",
            "  (199, 237)\t1\n",
            "  (199, 291)\t1\n",
            "  (199, 337)\t1\n",
            "  (199, 380)\t1\n",
            "  (199, 455)\t1\n",
            "  (199, 456)\t1\n",
            "  (199, 474)\t1\n",
            "[0 0 0 0 1 0 0 1 0 0 0 0 0 0 0 0 0 0 0 1 1 0 0 0 0 0 0 0 1 0 0 0 0 0 1 0 0\n",
            " 0 0 0 0 1 0 0 1 1 0 0 0 0 0 0 0 1 0 0 0 0 1 0 0 0 0 1 1 0 1 0 0 0 0 0 0 0\n",
            " 0 0 0 0 0 0 0 1 0 0 0 0 0 1 1 0 1 0 1 0 0 0 0 0 1 0 0 1 1 0 0 0 0 0 0 0 0\n",
            " 0 0 0 0 0 0 0 0 0 0 0 0 1 0 1 0 0 0 0 0 1 0 0 1 0 0 1 0 0 0 0 0 0 0 0 0 0\n",
            " 0 1 0 0 0 0 0 1 0 0 0 0 0 0 0 1 1 0 0 0 0 0 0 0 0 0 0 0 0 0 0 0 0 0 0 0 0\n",
            " 0 0 0 1 0 0 0 0 0 0 0 0 0 0 0]\n",
            "Accuracy: 0.5\n"
          ]
        }
      ],
      "source": [
        "## We need to transform this data to the same representation\n",
        "first_fit_transformed_testdata = first_vectorizer.transform(testdata['selftext'])\n",
        "kneighbour_classifier = KNeighborsClassifier().fit(first_fit_transformed_data, trainingdata['label'])\n",
        "print(first_fit_transformed_testdata)\n",
        "kneighbour_predicted = kneighbour_classifier.predict(first_fit_transformed_testdata)\n",
        "print(kneighbour_predicted)\n",
        "print(\"Accuracy:\",metrics.accuracy_score(testdata['label'],kneighbour_predicted ))\n",
        "#print(metrics.classification_report(testdata['label'], kneighbour_predicted, target_names=set(testdata['label'].tolist())))\n",
        "#print(metrics.classification_report(testdata['label'], kneighbour_predicted, target_names=set(testdata['label'].tolist())))"
      ]
    },
    {
      "cell_type": "code",
      "execution_count": null,
      "id": "072b4603",
      "metadata": {
        "id": "072b4603",
        "outputId": "3c715a80-83fc-4489-e437-7269dcfab483"
      },
      "outputs": [
        {
          "data": {
            "image/png": "[encoded data removed]",
            "text/plain": [
              "<Figure size 432x288 with 2 Axes>"
            ]
          },
          "metadata": {
            "needs_background": "light"
          },
          "output_type": "display_data"
        }
      ],
      "source": [
        "from sklearn.metrics import confusion_matrix\n",
        "import seaborn as sns\n",
        "x_axis_labels = ['Not violence','violence'] # labels for x-axis\n",
        "y_axis_labels = ['Not violence','violence'] # labels for y-axis\n",
        "\n",
        "cm =confusion_matrix(testdata['label'], kneighbour_predicted)\n",
        "cm_plot = sns.heatmap(cm, cmap=\"YlGnBu\",annot=True, fmt=\"d\",xticklabels=x_axis_labels, yticklabels=y_axis_labels)\n",
        "plt.show()"
      ]
    },
    {
      "cell_type": "markdown",
      "id": "8807323e",
      "metadata": {
        "id": "8807323e"
      },
      "source": [
        "We need to use some other classifiers to check which one is better:RandomForestClassifier"
      ]
    },
    {
      "cell_type": "code",
      "execution_count": null,
      "id": "5e9bb86e",
      "metadata": {
        "id": "5e9bb86e",
        "outputId": "7b344c52-7b19-4e25-862e-7936b4cfcba8"
      },
      "outputs": [
        {
          "name": "stdout",
          "output_type": "stream",
          "text": [
            "  (0, 52)\t1\n",
            "  (0, 153)\t1\n",
            "  (0, 159)\t1\n",
            "  (0, 170)\t1\n",
            "  (0, 200)\t1\n",
            "  (0, 277)\t1\n",
            "  (0, 297)\t1\n",
            "  (1, 34)\t1\n",
            "  (1, 65)\t1\n",
            "  (1, 96)\t1\n",
            "  (1, 224)\t1\n",
            "  (1, 256)\t1\n",
            "  (1, 313)\t1\n",
            "  (1, 324)\t1\n",
            "  (1, 334)\t1\n",
            "  (1, 413)\t1\n",
            "  (1, 419)\t2\n",
            "  (1, 422)\t1\n",
            "  (1, 482)\t1\n",
            "  (2, 203)\t1\n",
            "  (2, 224)\t1\n",
            "  (2, 230)\t1\n",
            "  (2, 424)\t1\n",
            "  (2, 431)\t1\n",
            "  (2, 462)\t2\n",
            "  :\t:\n",
            "  (197, 134)\t1\n",
            "  (197, 220)\t1\n",
            "  (197, 224)\t1\n",
            "  (197, 488)\t1\n",
            "  (198, 6)\t1\n",
            "  (198, 8)\t1\n",
            "  (198, 32)\t1\n",
            "  (198, 51)\t1\n",
            "  (198, 81)\t1\n",
            "  (198, 203)\t1\n",
            "  (198, 224)\t1\n",
            "  (198, 313)\t1\n",
            "  (198, 457)\t1\n",
            "  (199, 33)\t1\n",
            "  (199, 38)\t1\n",
            "  (199, 56)\t1\n",
            "  (199, 175)\t1\n",
            "  (199, 208)\t1\n",
            "  (199, 237)\t1\n",
            "  (199, 291)\t1\n",
            "  (199, 337)\t1\n",
            "  (199, 380)\t1\n",
            "  (199, 455)\t1\n",
            "  (199, 456)\t1\n",
            "  (199, 474)\t1\n",
            "[1 1 0 1 1 0 1 1 0 0 1 0 0 0 0 1 1 0 1 1 1 1 1 0 0 0 0 0 1 0 0 1 0 0 1 0 1\n",
            " 0 0 1 1 1 1 1 1 1 1 0 1 1 1 0 0 1 1 0 0 0 1 1 0 0 0 1 1 1 0 0 1 0 1 0 1 0\n",
            " 1 1 1 1 1 1 1 1 0 0 0 1 0 1 1 0 1 1 1 1 1 1 0 0 1 1 1 1 1 0 0 1 1 0 1 0 1\n",
            " 1 1 1 0 0 0 0 1 0 1 1 0 0 0 1 1 0 0 0 0 1 0 0 1 1 1 1 1 0 1 1 0 0 0 1 0 1\n",
            " 1 1 0 1 1 1 0 1 1 0 0 0 0 1 0 0 0 0 0 0 1 0 0 1 0 1 0 1 0 0 0 0 1 0 0 0 1\n",
            " 1 1 1 1 1 1 0 1 0 0 1 0 0 0 1]\n",
            "Accuracy: 0.82\n"
          ]
        }
      ],
      "source": [
        "from sklearn.ensemble import RandomForestClassifier\n",
        "RandomForestClassifier = RandomForestClassifier().fit(first_fit_transformed_data, trainingdata['label'])\n",
        "\n",
        "first_fit_transformed_testdata = first_vectorizer.transform(testdata['selftext'])\n",
        "print(first_fit_transformed_testdata)\n",
        "RandomForestClassifier_predicted = RandomForestClassifier.predict(first_fit_transformed_testdata)\n",
        "print(RandomForestClassifier_predicted)\n",
        "#print(metrics.classification_report(testdata['label'], RandomForestClassifier_predicted, target_names=set(testdata['label'].tolist())))\n",
        "print(\"Accuracy:\",metrics.accuracy_score(testdata['label'], RandomForestClassifier_predicted))"
      ]
    },
    {
      "cell_type": "markdown",
      "id": "737b48c8",
      "metadata": {
        "id": "737b48c8"
      },
      "source": [
        "You can also try other classifiers by yourself."
      ]
    },
    {
      "cell_type": "code",
      "execution_count": null,
      "id": "26d459d0",
      "metadata": {
        "id": "26d459d0",
        "outputId": "75892460-bdad-4328-cef4-4ad9d63b15de"
      },
      "outputs": [
        {
          "data": {
            "image/png": "[encoded data removed]",
            "text/plain": [
              "<Figure size 432x288 with 2 Axes>"
            ]
          },
          "metadata": {
            "needs_background": "light"
          },
          "output_type": "display_data"
        }
      ],
      "source": [
        "import seaborn as sns\n",
        "x_axis_labels = ['Not violence','violence'] # labels for x-axis\n",
        "y_axis_labels = ['Not violence','violence'] # labels for y-axis\n",
        "\n",
        "cm =confusion_matrix(testdata['label'], RandomForestClassifier_predicted)\n",
        "cm_plot = sns.heatmap(cm, cmap=\"YlGnBu\",annot=True, fmt=\"d\",xticklabels=x_axis_labels, yticklabels=y_axis_labels)\n",
        "plt.show()"
      ]
    },
    {
      "cell_type": "code",
      "execution_count": null,
      "id": "cce9a391",
      "metadata": {
        "id": "cce9a391",
        "outputId": "fcbcf2c7-41f3-4500-b406-05adc9f1f0cd"
      },
      "outputs": [
        {
          "name": "stdout",
          "output_type": "stream",
          "text": [
            "  (0, 52)\t1\n",
            "  (0, 153)\t1\n",
            "  (0, 159)\t1\n",
            "  (0, 170)\t1\n",
            "  (0, 200)\t1\n",
            "  (0, 277)\t1\n",
            "  (0, 297)\t1\n",
            "  (1, 34)\t1\n",
            "  (1, 65)\t1\n",
            "  (1, 96)\t1\n",
            "  (1, 224)\t1\n",
            "  (1, 256)\t1\n",
            "  (1, 313)\t1\n",
            "  (1, 324)\t1\n",
            "  (1, 334)\t1\n",
            "  (1, 413)\t1\n",
            "  (1, 419)\t2\n",
            "  (1, 422)\t1\n",
            "  (1, 482)\t1\n",
            "  (2, 203)\t1\n",
            "  (2, 224)\t1\n",
            "  (2, 230)\t1\n",
            "  (2, 424)\t1\n",
            "  (2, 431)\t1\n",
            "  (2, 462)\t2\n",
            "  :\t:\n",
            "  (197, 134)\t1\n",
            "  (197, 220)\t1\n",
            "  (197, 224)\t1\n",
            "  (197, 488)\t1\n",
            "  (198, 6)\t1\n",
            "  (198, 8)\t1\n",
            "  (198, 32)\t1\n",
            "  (198, 51)\t1\n",
            "  (198, 81)\t1\n",
            "  (198, 203)\t1\n",
            "  (198, 224)\t1\n",
            "  (198, 313)\t1\n",
            "  (198, 457)\t1\n",
            "  (199, 33)\t1\n",
            "  (199, 38)\t1\n",
            "  (199, 56)\t1\n",
            "  (199, 175)\t1\n",
            "  (199, 208)\t1\n",
            "  (199, 237)\t1\n",
            "  (199, 291)\t1\n",
            "  (199, 337)\t1\n",
            "  (199, 380)\t1\n",
            "  (199, 455)\t1\n",
            "  (199, 456)\t1\n",
            "  (199, 474)\t1\n",
            "[1 1 0 1 0 0 1 1 0 0 1 0 0 0 0 1 1 1 1 1 1 1 0 0 0 1 0 0 0 0 1 1 0 1 1 0 1\n",
            " 0 0 1 0 1 1 1 1 1 1 0 0 1 0 1 1 1 1 0 0 0 1 1 0 0 0 1 1 1 0 0 0 0 1 0 1 1\n",
            " 1 1 1 0 1 1 1 1 0 0 0 1 0 1 1 0 1 0 1 1 0 1 1 0 1 1 1 1 0 0 0 1 1 0 0 0 1\n",
            " 1 1 0 0 0 0 1 1 0 1 0 0 0 0 1 1 0 1 0 0 0 0 0 1 1 0 1 1 0 1 0 0 0 0 1 0 1\n",
            " 1 1 0 1 1 1 0 1 1 1 1 0 0 0 0 0 1 0 0 0 1 0 1 0 1 1 0 1 0 0 0 0 0 0 0 1 0\n",
            " 1 1 1 1 0 1 0 0 0 0 1 0 0 0 1]\n",
            "Accuracy: 0.715\n"
          ]
        }
      ],
      "source": [
        "## We need to transform this data to the same representation\n",
        "from sklearn.tree import DecisionTreeClassifier\n",
        "DecisionTreeClassifier = DecisionTreeClassifier().fit(first_fit_transformed_data, trainingdata['label'])\n",
        "first_fit_transformed_testdata = first_vectorizer.transform(testdata['selftext'])\n",
        "print(first_fit_transformed_testdata)\n",
        "DecisionTree_predicted = DecisionTreeClassifier.predict(first_fit_transformed_testdata)\n",
        "print(DecisionTree_predicted)\n",
        "print(\"Accuracy:\",metrics.accuracy_score(testdata['label'], DecisionTree_predicted))"
      ]
    },
    {
      "cell_type": "code",
      "execution_count": null,
      "id": "a0449bb9",
      "metadata": {
        "id": "a0449bb9",
        "outputId": "55932e44-96b9-4e47-f5ef-e90422424d45"
      },
      "outputs": [
        {
          "data": {
            "image/png": "[encoded data removed]",
            "text/plain": [
              "<Figure size 432x288 with 2 Axes>"
            ]
          },
          "metadata": {
            "needs_background": "light"
          },
          "output_type": "display_data"
        }
      ],
      "source": [
        "import seaborn as sns\n",
        "x_axis_labels = ['Not violence','violence'] # labels for x-axis\n",
        "y_axis_labels = ['Not violence','violence'] # labels for y-axis\n",
        "\n",
        "cm =confusion_matrix(testdata['label'], DecisionTree_predicted)\n",
        "cm_plot = sns.heatmap(cm, cmap=\"YlGnBu\",annot=True, fmt=\"d\",xticklabels=x_axis_labels, yticklabels=y_axis_labels)\n",
        "plt.show()"
      ]
    },
    {
      "cell_type": "markdown",
      "id": "e264f903",
      "metadata": {
        "id": "e264f903"
      },
      "source": [
        "# 5: N-fold cross-validation\n",
        "We can employ n-fold cross-validation on the training data to experiment with different representations, parameters, and classifiers.\n",
        "There are also various metrics that can be used to evaluate classification results."
      ]
    },
    {
      "cell_type": "code",
      "execution_count": null,
      "id": "9f5620a5",
      "metadata": {
        "scrolled": true,
        "id": "9f5620a5",
        "outputId": "dccc8a3a-51dd-4887-a7ec-e25ed508c2aa"
      },
      "outputs": [
        {
          "data": {
            "image/png": "[encoded data removed]",
            "text/plain": [
              "<Figure size 432x288 with 1 Axes>"
            ]
          },
          "metadata": {
            "needs_background": "light"
          },
          "output_type": "display_data"
        }
      ],
      "source": [
        "from sklearn.ensemble import RandomForestClassifier\n",
        "rf_classifier = RandomForestClassifier(n_estimators=200, max_depth=3, random_state=0).fit(first_fit_transformed_data, trainingdata['label'])\n",
        "scoring = ['precision_macro', 'recall_macro','precision_micro','recall_micro', 'f1_micro', 'f1_macro']\n",
        "scores = cross_validate(rf_classifier, first_fit_transformed_data, trainingdata['label'], scoring=scoring, cv=10, return_train_score=False)\n",
        "scoresdf = pd.DataFrame(scores)\n",
        "scoring = ['test_precision_macro', 'test_recall_macro','test_precision_micro','test_recall_micro', 'test_f1_micro', 'test_f1_macro']\n",
        "bp = scoresdf.boxplot(column=scoring, grid=False, rot=45,)\n",
        "[ax_tmp.set_xlabel('') for ax_tmp in np.asarray(bp).reshape(-1)]\n",
        "fig = np.asarray(bp).reshape(-1)[0].get_figure()\n",
        "fig.suptitle('Random forest, count vectorizer')\n",
        "plt.show()"
      ]
    },
    {
      "cell_type": "markdown",
      "id": "ef363fdb",
      "metadata": {
        "id": "ef363fdb"
      },
      "source": [
        "# 6: Another representation model: Tf-idf¶\n",
        "We have used a very simple bag-of-words representation.\n",
        " What happens if we try something else? Let's try tf-idf. \n",
        " This is considered a strong baseline in many text classification tasks."
      ]
    },
    {
      "cell_type": "code",
      "execution_count": null,
      "id": "dc1179ad",
      "metadata": {
        "id": "dc1179ad",
        "outputId": "75166836-eb20-44bd-f66b-795a88b3c1c0"
      },
      "outputs": [
        {
          "data": {
            "text/plain": [
              "<776x2087 sparse matrix of type '<class 'numpy.float64'>'\n",
              "\twith 6875 stored elements in Compressed Sparse Row format>"
            ]
          },
          "execution_count": 62,
          "metadata": {},
          "output_type": "execute_result"
        }
      ],
      "source": [
        "stopWords = set(stopwords.words('english'))\n",
        "tfidf_vect = TfidfVectorizer(tokenizer=word_tokenize, stop_words=stopWords)\n",
        "tfidf_vect.fit(trainingdata['selftext'])\n",
        "second_fit_transformed_data =  tfidf_vect.transform(trainingdata['selftext'])\n",
        "second_fit_transformed_data"
      ]
    },
    {
      "cell_type": "code",
      "execution_count": null,
      "id": "6d6ace0a",
      "metadata": {
        "id": "6d6ace0a",
        "outputId": "636b7673-af99-43fc-c22a-861759157286"
      },
      "outputs": [
        {
          "data": {
            "image/png": "[encoded data removed]",
            "text/plain": [
              "<Figure size 432x288 with 1 Axes>"
            ]
          },
          "metadata": {
            "needs_background": "light"
          },
          "output_type": "display_data"
        }
      ],
      "source": [
        "from sklearn.ensemble import RandomForestClassifier\n",
        "rf_classifier2 = RandomForestClassifier().fit(second_fit_transformed_data, trainingdata['label'])\n",
        "scoring = ['precision_macro', 'recall_macro','precision_micro','recall_micro', 'f1_micro', 'f1_macro']\n",
        "scores = cross_validate(rf_classifier2, second_fit_transformed_data, trainingdata['label'], scoring=scoring, cv=10, return_train_score=False)\n",
        "scoresdf = pd.DataFrame(scores)\n",
        "scoring = ['test_precision_macro', 'test_recall_macro','test_precision_micro','test_recall_micro', 'test_f1_micro', 'test_f1_macro']\n",
        "bp = scoresdf.boxplot(column=scoring, grid=False, rot=45,)\n",
        "[ax_tmp.set_xlabel('') for ax_tmp in np.asarray(bp).reshape(-1)]\n",
        "fig = np.asarray(bp).reshape(-1)[0].get_figure()\n",
        "fig.suptitle('Random forest, tf-idf vectorizer')\n",
        "plt.show()"
      ]
    },
    {
      "cell_type": "code",
      "execution_count": null,
      "id": "df8ec739",
      "metadata": {
        "scrolled": true,
        "id": "df8ec739",
        "outputId": "317e6d6d-abdb-4153-b7dd-23128bab729b"
      },
      "outputs": [
        {
          "data": {
            "image/png": "[encoded data removed]",
            "text/plain": [
              "<Figure size 432x288 with 1 Axes>"
            ]
          },
          "metadata": {
            "needs_background": "light"
          },
          "output_type": "display_data"
        }
      ],
      "source": [
        "from sklearn.tree import DecisionTreeClassifier\n",
        "DecisionTreeClassifier2 = DecisionTreeClassifier().fit(second_fit_transformed_data, trainingdata['label'])\n",
        "scoring = ['precision_macro', 'recall_macro','precision_micro','recall_micro', 'f1_micro', 'f1_macro']\n",
        "scores = cross_validate(DecisionTreeClassifier2, second_fit_transformed_data, trainingdata['label'], scoring=scoring, cv=10, return_train_score=False)\n",
        "scoresdf = pd.DataFrame(scores)\n",
        "scoring = ['test_precision_macro', 'test_recall_macro','test_precision_micro','test_recall_micro', 'test_f1_micro', 'test_f1_macro']\n",
        "bp = scoresdf.boxplot(column=scoring, grid=False, rot=45,)\n",
        "[ax_tmp.set_xlabel('') for ax_tmp in np.asarray(bp).reshape(-1)]\n",
        "fig = np.asarray(bp).reshape(-1)[0].get_figure()\n",
        "fig.suptitle('DecisionTreeClassifier, tf-idf vectorizer')\n",
        "plt.show()\n",
        "# We can see that the DecisionTreeClassifier performs pretty good in this case"
      ]
    },
    {
      "cell_type": "markdown",
      "id": "7132f579",
      "metadata": {
        "id": "7132f579"
      },
      "source": [
        "From the above figures, we can see that the performance of the applied classifiers:\n",
        " Random Forest classifier with TF-IDF > Random Forest> KNN"
      ]
    },
    {
      "cell_type": "markdown",
      "id": "a67a4e95",
      "metadata": {
        "id": "a67a4e95"
      },
      "source": [
        "# 7: Representations: embeddings\n",
        "For the embedding representations.\n",
        "\n",
        "We will try Zeugma which is a package where you can use embeddings in sklearn. https://github.com/nkthiebaut/zeugma\n",
        "\n",
        "It allows you to directly download pre-trained models that have been released from the gensim website.\n",
        "\n",
        "Let's use a basic glove model. \n",
        " \n",
        "We will check what might be the benefit of using this type of representation instead of counts or tf-idf?"
      ]
    },
    {
      "cell_type": "code",
      "execution_count": null,
      "id": "d22f6236",
      "metadata": {
        "id": "d22f6236",
        "outputId": "624ad093-b1ac-47c7-cfba-8bc92470a9b1"
      },
      "outputs": [
        {
          "name": "stdout",
          "output_type": "stream",
          "text": [
            "[[-0.31903568  0.312051    0.2395092  ...  0.25117964 -0.07637648\n",
            "  -0.3975404 ]\n",
            " [-0.28462732  0.4530867  -0.096233   ... -0.44266167 -0.5407338\n",
            "  -0.6172367 ]\n",
            " [ 0.02876019  0.49749777 -0.0247744  ... -0.21045253 -0.09218549\n",
            "  -0.48816082]\n",
            " ...\n",
            " [-0.1220425   0.17173511  0.15359405 ...  0.28730264  0.11525999\n",
            "  -0.26241145]\n",
            " [-0.1602648   0.3461491   0.44487864 ...  0.4112358  -0.0180772\n",
            "  -0.25251347]\n",
            " [-0.6160287   0.22391248  0.7457125  ...  0.98865867 -0.15616125\n",
            "  -0.15990874]]\n"
          ]
        }
      ],
      "source": [
        "glove = EmbeddingTransformer('glove')\n",
        "glove_transformed_training_data = glove.transform(trainingdata['selftext'])\n",
        "print(glove_transformed_training_data)"
      ]
    },
    {
      "cell_type": "code",
      "execution_count": null,
      "id": "69ed9410",
      "metadata": {
        "id": "69ed9410",
        "outputId": "2db65670-d394-4fa9-974c-f04846b7808c"
      },
      "outputs": [
        {
          "data": {
            "image/png": "[encoded data removed]",
            "text/plain": [
              "<Figure size 432x288 with 1 Axes>"
            ]
          },
          "metadata": {
            "needs_background": "light"
          },
          "output_type": "display_data"
        }
      ],
      "source": [
        "from sklearn.tree import DecisionTreeClassifier\n",
        "DecisionTreeClassifier = DecisionTreeClassifier().fit(glove_transformed_training_data, trainingdata['label'])\n",
        "scoring = ['precision_macro', 'recall_macro','precision_micro','recall_micro', 'f1_micro', 'f1_macro']\n",
        "scores = cross_validate(DecisionTreeClassifier, glove_transformed_training_data, trainingdata['label'], scoring=scoring, cv=10, return_train_score=False)\n",
        "scoresdf = pd.DataFrame(scores)\n",
        "scoring = ['test_precision_macro', 'test_recall_macro','test_precision_micro','test_recall_micro', 'test_f1_micro', 'test_f1_macro']\n",
        "bp = scoresdf.boxplot(column=scoring, grid=False, rot=45,)\n",
        "[ax_tmp.set_xlabel('') for ax_tmp in np.asarray(bp).reshape(-1)]\n",
        "fig = np.asarray(bp).reshape(-1)[0].get_figure()\n",
        "fig.suptitle('DecisionTree, pre-trained embeddings')\n",
        "plt.show()"
      ]
    },
    {
      "cell_type": "markdown",
      "id": "4620f222",
      "metadata": {
        "id": "4620f222"
      },
      "source": [
        "# 8: Classifiers, representations, evaluation\n",
        "You've now seen that you get very different results depending on which representation you use, which classifier, and also that there are many different metrics to analyse.\n",
        "\n",
        "Let's try some different configurations all in one go. We'll create a dictionary with the three different types of representations, and a list of different classification algorithms, and apply all these configurations to see what seems to yield best results according to a chosen evaluation metric using 10-fold cross validation."
      ]
    },
    {
      "cell_type": "code",
      "execution_count": null,
      "id": "f7a1d787",
      "metadata": {
        "id": "f7a1d787",
        "outputId": "2f2359c8-3bb2-42e9-8ea2-dc9238346e9f"
      },
      "outputs": [
        {
          "data": {
            "image/png": "[encoded data removed]",
            "text/plain": [
              "<Figure size 864x576 with 1 Axes>"
            ]
          },
          "metadata": {
            "needs_background": "light"
          },
          "output_type": "display_data"
        }
      ],
      "source": [
        "from sklearn.tree import DecisionTreeClassifier\n",
        "representations = {}\n",
        "\n",
        "vectorizer = CountVectorizer(ngram_range=(1,1), stop_words=None,\n",
        "                             tokenizer=word_tokenize, max_features=500)\n",
        "xtrain_countvect = vectorizer.fit_transform(trainingdata['selftext'])\n",
        "representations['CountVectorizer'] = xtrain_countvect\n",
        "\n",
        "tfidf_vect = TfidfVectorizer(tokenizer=word_tokenize, stop_words=stopWords)\n",
        "tfidf_vect.fit(trainingdata['selftext'])\n",
        "xtrain_tfidf =  tfidf_vect.transform(trainingdata['selftext'])\n",
        "representations['TfidfVectorizer'] = xtrain_tfidf\n",
        "\n",
        "x_train_glove = glove.transform(trainingdata['selftext'])\n",
        "representations['pretrained_glove'] = x_train_glove\n",
        "\n",
        "\n",
        "\n",
        "CV = 10\n",
        "\n",
        "classifier_models = [\n",
        "        RandomForestClassifier(n_estimators=200, max_depth=3, random_state=0),\n",
        "        DecisionTreeClassifier(),\n",
        "        SVC(),\n",
        "     #    LinearSVC(multi_class='ovr', C=1.0, class_weight=None, dual=True, fit_intercept=True,\n",
        "     # intercept_scaling=1, loss='squared_hinge', max_iter=1000,\n",
        "     #  penalty='l2', random_state=0, tol=1e-05, verbose=0),\n",
        "        SGDClassifier(),\n",
        "        LogisticRegression(random_state=0),\n",
        "        KNeighborsClassifier(),\n",
        "]\n",
        "\n",
        "cv_df = pd.DataFrame(index=range(CV * (len(classifier_models)*len(representations))))\n",
        "entries = []\n",
        "\n",
        "for representation, transformed_vector in representations.items():\n",
        "    score = 'f1_micro'\n",
        "    for model in classifier_models:\n",
        "      model_name = model.__class__.__name__+'_'+representation\n",
        "      accuracies = cross_val_score(model, transformed_vector, trainingdata['label'], scoring=score, cv=CV)\n",
        "      #accuracies = cross_val_score(model, transformed_vector, trainingdata['role'], scoring=score, cv=CV)\n",
        "      for fold_idx, accuracy in enumerate(accuracies):\n",
        "        entries.append((model_name, fold_idx, accuracy))\n",
        "cv_df = pd.DataFrame(entries, columns=['model_name', 'fold_idx', score])\n",
        "bp = cv_df.boxplot(by='model_name', column=[score], grid=False, rot=90, figsize=(12,8))\n",
        "[ax_tmp.set_xlabel('') for ax_tmp in np.asarray(bp).reshape(-1)]\n",
        "fig = np.asarray(bp).reshape(-1)[0].get_figure()\n",
        "fig.suptitle('10-fold cross validation results')\n",
        "plt.show()"
      ]
    },
    {
      "cell_type": "code",
      "execution_count": null,
      "id": "1050904c",
      "metadata": {
        "id": "1050904c"
      },
      "outputs": [],
      "source": [
        ""
      ]
    },
    {
      "cell_type": "code",
      "execution_count": null,
      "id": "3362ee63",
      "metadata": {
        "id": "3362ee63"
      },
      "outputs": [],
      "source": [
        ""
      ]
    }
  ],
  "metadata": {
    "kernelspec": {
      "display_name": "Python 3 (ipykernel)",
      "language": "python",
      "name": "python3"
    },
    "language_info": {
      "codemirror_mode": {
        "name": "ipython",
        "version": 3
      },
      "file_extension": ".py",
      "mimetype": "text/x-python",
      "name": "python",
      "nbconvert_exporter": "python",
      "pygments_lexer": "ipython3",
      "version": "3.8.8"
    },
    "colab": {
      "name": "NLP_supervised learning.ipynb",
      "provenance": []
    }
  },
  "nbformat": 4,
  "nbformat_minor": 5
}