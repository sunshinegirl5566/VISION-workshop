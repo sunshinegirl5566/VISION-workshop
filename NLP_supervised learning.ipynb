{
 "cells": [
  {
   "cell_type": "markdown",
   "id": "aa4b3ab3",
   "metadata": {},
   "source": [
    "# NLP classification - supervised learning\n",
    "\n",
    "In this example, you will learn how you can use supervised learning algorithms for NLP classification. We will use documents from https://www.reddit.com/r/domesticviolence/ and https://www.reddit.com/r/emotionalabuse/ The task is to classify a document into two different types of violence: physical domestic violence or emotional abuse.\n",
    "\n",
    "We will use classification algorithms as implemented in sci-kit learn, and evaluate with cross-validation before testing on unseen test data.\n",
    "\n",
    "We will experiment with different ways of representing the documents for the classifiers.\n",
    "\n",
    "material in parts from https://towardsdatascience.com/multi-class-text-classification-with-scikit-learn-12f1e60e0a9f\n",
    "\n",
    "Written by Sumithra Velupillai, March 2019 - updated February 2020"
   ]
  },
  {
   "cell_type": "markdown",
   "id": "9e61349a",
   "metadata": {},
   "source": [
    "# 1: Import packages"
   ]
  },
  {
   "cell_type": "code",
   "execution_count": 1,
   "id": "f88fe94c",
   "metadata": {},
   "outputs": [],
   "source": [
    "%matplotlib inline\n",
    "\n",
    "import matplotlib\n",
    "import matplotlib.pyplot as plt\n",
    "\n",
    "import pandas as pd\n",
    "try:\n",
    "    import xlrd\n",
    "except ImportError as e:\n",
    "    !pip install xlrd\n",
    "    import xlrd\n",
    "\n",
    "import numpy as np\n",
    "\n",
    "import warnings; warnings.simplefilter('ignore')"
   ]
  },
  {
   "cell_type": "code",
   "execution_count": 2,
   "id": "426586da",
   "metadata": {},
   "outputs": [],
   "source": [
    "# We'll use scikit-learn for the classification algorithms.\n",
    "# https://scikit-learn.org/stable/\n",
    "\n",
    "#from sklearn.naive_bayes import MultinomialNB\n",
    "from sklearn.linear_model import SGDClassifier\n",
    "from sklearn.linear_model import LogisticRegression\n",
    "from sklearn.ensemble import RandomForestClassifier\n",
    "from sklearn.svm import LinearSVC\n",
    "from sklearn.neighbors import KNeighborsClassifier\n",
    "#from sklearn.naive_bayes import GaussianNB\n",
    "from sklearn.tree import DecisionTreeClassifier\n",
    "from sklearn.svm import SVC"
   ]
  },
  {
   "cell_type": "code",
   "execution_count": 3,
   "id": "172cd898",
   "metadata": {},
   "outputs": [],
   "source": [
    "## sklearn also has some nice funtions for representations\n",
    "\n",
    "from sklearn.feature_extraction.text import TfidfTransformer\n",
    "from sklearn.feature_extraction.text import CountVectorizer\n",
    "from sklearn.feature_extraction.text import TfidfVectorizer\n",
    "\n",
    "## and for evaluation\n",
    "from sklearn.pipeline import Pipeline\n",
    "from sklearn import metrics\n",
    "from sklearn.model_selection import cross_validate\n",
    "from sklearn.model_selection import cross_val_score"
   ]
  },
  {
   "cell_type": "code",
   "execution_count": 4,
   "id": "3fe187d1",
   "metadata": {},
   "outputs": [
    {
     "name": "stderr",
     "output_type": "stream",
     "text": [
      "[nltk_data] Downloading package punkt to /Users/lilifang/nltk_data...\n",
      "[nltk_data]   Package punkt is already up-to-date!\n",
      "[nltk_data] Downloading package stopwords to\n",
      "[nltk_data]     /Users/lilifang/nltk_data...\n",
      "[nltk_data]   Package stopwords is already up-to-date!\n"
     ]
    }
   ],
   "source": [
    "## Since we're working with text, we might need to tokenize for some of these representations. \n",
    "# We'll use nltk here, but there are other nlp packages available for this\n",
    "import nltk\n",
    "nltk.download('punkt')\n",
    "nltk.download('stopwords')\n",
    "\n",
    "from nltk.tokenize import word_tokenize\n",
    "from nltk.corpus import stopwords"
   ]
  },
  {
   "cell_type": "code",
   "execution_count": 5,
   "id": "79041c0d",
   "metadata": {},
   "outputs": [
    {
     "name": "stdout",
     "output_type": "stream",
     "text": [
      "2022-03-07 12:04:52.292957\n"
     ]
    }
   ],
   "source": [
    "# You have also learnt about embedding representations. These can also be used for classification.\n",
    "# We will use a library called Zeugma, which allows using pre-trained embedding models\n",
    "#Zeugma library: https://github.com/nkthiebaut/zeugma\n",
    "\n",
    "try:\n",
    "    from zeugma.embeddings import EmbeddingTransformer\n",
    "except ImportError as e:\n",
    "    !pip install zeugma\n",
    "    !pip install theano\n",
    "    from zeugma.embeddings import EmbeddingTransformer\n",
    "\n",
    "from datetime import datetime\n",
    "print(datetime.now())"
   ]
  },
  {
   "cell_type": "markdown",
   "id": "190a3b0a",
   "metadata": {},
   "source": [
    "# 2: Corpus \n",
    "Reading in the training data"
   ]
  },
  {
   "cell_type": "code",
   "execution_count": 6,
   "id": "b8afa01b",
   "metadata": {},
   "outputs": [
    {
     "name": "stdout",
     "output_type": "stream",
     "text": [
      "Index(['label', 'title', 'selftext'], dtype='object')\n",
      "physical     1723\n",
      "emotional    1577\n",
      "Name: label, dtype: int64\n"
     ]
    }
   ],
   "source": [
    "csv_training = 'train.csv'\n",
    "trainingdata = pd.read_csv(csv_training)\n",
    "print(trainingdata.columns)\n",
    "print(trainingdata['label'].value_counts()) "
   ]
  },
  {
   "cell_type": "markdown",
   "id": "bbab0598",
   "metadata": {},
   "source": [
    "# 3: Representation - BoW\n",
    "The most common baseline feature representation for text classification tasks is to use the bag-of-words representation, in a document-term matrix. Let's build a simple one using raw counts and only keeping a maximum of 500 features. We can use the CountVectorizer function from sklearn, and tokenize using a function from nltk."
   ]
  },
  {
   "cell_type": "code",
   "execution_count": 7,
   "id": "fb60d598",
   "metadata": {},
   "outputs": [],
   "source": [
    "first_vectorizer = CountVectorizer(ngram_range=(1,1), stop_words=None,\n",
    "                             tokenizer=word_tokenize, max_features=500)\n",
    "first_vectorizer.fit(trainingdata['selftext'].tolist())\n",
    "first_fit_transformed_data = first_vectorizer.fit_transform(trainingdata['selftext'])"
   ]
  },
  {
   "cell_type": "code",
   "execution_count": 8,
   "id": "c4a81cf6",
   "metadata": {},
   "outputs": [
    {
     "name": "stdout",
     "output_type": "stream",
     "text": [
      "abuse\n",
      "(3300, 500)\n",
      "Amount of Non-Zero occurences:  372501\n"
     ]
    }
   ],
   "source": [
    "# What word is represented by the different indices? Have a look at a few examples.\n",
    "print (first_vectorizer.get_feature_names()[32])\n",
    "print(first_fit_transformed_data.shape)\n",
    "print ('Amount of Non-Zero occurences: ', first_fit_transformed_data.nnz)"
   ]
  },
  {
   "cell_type": "markdown",
   "id": "f803b7b6",
   "metadata": {},
   "source": [
    "# 4: Classification\n",
    "Let's build a classifier with this feature representation. In text classification, many classification algorithms have been shown to work well. Sci-kit learn has implementations for many different types of classification algorithms - have a look at their website!\n",
    "\n",
    "Let's try a K nearest neighbour classifier."
   ]
  },
  {
   "cell_type": "code",
   "execution_count": 9,
   "id": "f7c7e430",
   "metadata": {},
   "outputs": [],
   "source": [
    "kneighbour_classifier = KNeighborsClassifier().fit(first_fit_transformed_data, trainingdata['label'])"
   ]
  },
  {
   "cell_type": "markdown",
   "id": "2a23d0ab",
   "metadata": {},
   "source": [
    "We now have a trained model. But how do we know how well it works? Let's evaluate it on the test data."
   ]
  },
  {
   "cell_type": "code",
   "execution_count": 15,
   "id": "352e2a47",
   "metadata": {},
   "outputs": [],
   "source": [
    "csv_test = 'test.csv'\n",
    "testdata = pd.read_csv(csv_test)"
   ]
  },
  {
   "cell_type": "code",
   "execution_count": 16,
   "id": "b442dd88",
   "metadata": {},
   "outputs": [
    {
     "name": "stdout",
     "output_type": "stream",
     "text": [
      "physical     419\n",
      "emotional    390\n",
      "Name: label, dtype: int64\n"
     ]
    }
   ],
   "source": [
    "testdata.columns\n",
    "print(testdata['label'].value_counts()) "
   ]
  },
  {
   "cell_type": "code",
   "execution_count": 17,
   "id": "2800ecf0",
   "metadata": {},
   "outputs": [
    {
     "name": "stdout",
     "output_type": "stream",
     "text": [
      "  (0, 3)\t2\n",
      "  (0, 4)\t2\n",
      "  (0, 5)\t1\n",
      "  (0, 6)\t2\n",
      "  (0, 7)\t5\n",
      "  (0, 8)\t5\n",
      "  (0, 9)\t11\n",
      "  (0, 10)\t3\n",
      "  (0, 11)\t6\n",
      "  (0, 12)\t6\n",
      "  (0, 14)\t21\n",
      "  (0, 16)\t23\n",
      "  (0, 18)\t3\n",
      "  (0, 26)\t1\n",
      "  (0, 28)\t2\n",
      "  (0, 29)\t7\n",
      "  (0, 31)\t9\n",
      "  (0, 35)\t1\n",
      "  (0, 36)\t1\n",
      "  (0, 39)\t1\n",
      "  (0, 40)\t1\n",
      "  (0, 43)\t1\n",
      "  (0, 44)\t2\n",
      "  (0, 46)\t2\n",
      "  (0, 49)\t2\n",
      "  :\t:\n",
      "  (808, 464)\t2\n",
      "  (808, 465)\t8\n",
      "  (808, 467)\t2\n",
      "  (808, 468)\t9\n",
      "  (808, 471)\t3\n",
      "  (808, 472)\t1\n",
      "  (808, 473)\t2\n",
      "  (808, 474)\t12\n",
      "  (808, 475)\t5\n",
      "  (808, 477)\t2\n",
      "  (808, 480)\t2\n",
      "  (808, 482)\t9\n",
      "  (808, 483)\t3\n",
      "  (808, 484)\t14\n",
      "  (808, 485)\t1\n",
      "  (808, 487)\t1\n",
      "  (808, 488)\t1\n",
      "  (808, 489)\t1\n",
      "  (808, 490)\t5\n",
      "  (808, 492)\t5\n",
      "  (808, 494)\t3\n",
      "  (808, 495)\t7\n",
      "  (808, 496)\t1\n",
      "  (808, 498)\t146\n",
      "  (808, 499)\t40\n",
      "['emotional' 'physical' 'physical' 'emotional' 'physical' 'emotional'\n",
      " 'emotional' 'emotional' 'physical' 'emotional' 'physical' 'physical'\n",
      " 'emotional' 'physical' 'physical' 'physical' 'physical' 'physical'\n",
      " 'physical' 'physical' 'physical' 'physical' 'emotional' 'physical'\n",
      " 'physical' 'physical' 'physical' 'physical' 'physical' 'physical'\n",
      " 'physical' 'emotional' 'physical' 'physical' 'physical' 'physical'\n",
      " 'physical' 'physical' 'physical' 'physical' 'physical' 'physical'\n",
      " 'emotional' 'physical' 'physical' 'emotional' 'physical' 'physical'\n",
      " 'emotional' 'emotional' 'emotional' 'physical' 'emotional' 'emotional'\n",
      " 'physical' 'emotional' 'physical' 'physical' 'physical' 'physical'\n",
      " 'emotional' 'emotional' 'physical' 'physical' 'emotional' 'emotional'\n",
      " 'physical' 'emotional' 'emotional' 'emotional' 'emotional' 'emotional'\n",
      " 'emotional' 'emotional' 'physical' 'physical' 'physical' 'physical'\n",
      " 'physical' 'physical' 'physical' 'physical' 'emotional' 'emotional'\n",
      " 'physical' 'emotional' 'physical' 'emotional' 'emotional' 'emotional'\n",
      " 'physical' 'physical' 'emotional' 'emotional' 'emotional' 'emotional'\n",
      " 'emotional' 'physical' 'emotional' 'physical' 'physical' 'physical'\n",
      " 'physical' 'physical' 'physical' 'physical' 'emotional' 'physical'\n",
      " 'emotional' 'physical' 'physical' 'physical' 'emotional' 'emotional'\n",
      " 'emotional' 'physical' 'physical' 'physical' 'emotional' 'emotional'\n",
      " 'emotional' 'physical' 'physical' 'emotional' 'physical' 'physical'\n",
      " 'emotional' 'physical' 'physical' 'physical' 'physical' 'emotional'\n",
      " 'emotional' 'physical' 'emotional' 'emotional' 'emotional' 'emotional'\n",
      " 'emotional' 'physical' 'physical' 'emotional' 'physical' 'physical'\n",
      " 'physical' 'physical' 'physical' 'emotional' 'physical' 'physical'\n",
      " 'physical' 'physical' 'physical' 'emotional' 'physical' 'physical'\n",
      " 'physical' 'physical' 'emotional' 'physical' 'physical' 'physical'\n",
      " 'physical' 'physical' 'emotional' 'emotional' 'physical' 'emotional'\n",
      " 'emotional' 'physical' 'physical' 'physical' 'physical' 'physical'\n",
      " 'physical' 'emotional' 'physical' 'emotional' 'emotional' 'physical'\n",
      " 'physical' 'emotional' 'physical' 'physical' 'physical' 'physical'\n",
      " 'physical' 'physical' 'emotional' 'physical' 'emotional' 'emotional'\n",
      " 'physical' 'physical' 'emotional' 'physical' 'physical' 'physical'\n",
      " 'emotional' 'emotional' 'physical' 'physical' 'emotional' 'physical'\n",
      " 'physical' 'physical' 'physical' 'emotional' 'physical' 'physical'\n",
      " 'emotional' 'emotional' 'physical' 'emotional' 'physical' 'physical'\n",
      " 'physical' 'emotional' 'emotional' 'emotional' 'physical' 'physical'\n",
      " 'physical' 'physical' 'emotional' 'emotional' 'physical' 'emotional'\n",
      " 'physical' 'physical' 'physical' 'physical' 'physical' 'physical'\n",
      " 'physical' 'physical' 'physical' 'physical' 'emotional' 'emotional'\n",
      " 'emotional' 'emotional' 'emotional' 'physical' 'physical' 'emotional'\n",
      " 'emotional' 'emotional' 'physical' 'emotional' 'physical' 'physical'\n",
      " 'physical' 'physical' 'physical' 'emotional' 'emotional' 'emotional'\n",
      " 'emotional' 'physical' 'physical' 'physical' 'physical' 'emotional'\n",
      " 'physical' 'emotional' 'emotional' 'physical' 'physical' 'emotional'\n",
      " 'emotional' 'emotional' 'emotional' 'physical' 'physical' 'physical'\n",
      " 'physical' 'physical' 'emotional' 'physical' 'physical' 'physical'\n",
      " 'emotional' 'physical' 'emotional' 'physical' 'emotional' 'physical'\n",
      " 'physical' 'physical' 'physical' 'emotional' 'physical' 'physical'\n",
      " 'physical' 'emotional' 'emotional' 'emotional' 'physical' 'physical'\n",
      " 'physical' 'physical' 'physical' 'physical' 'physical' 'physical'\n",
      " 'emotional' 'physical' 'physical' 'physical' 'emotional' 'physical'\n",
      " 'physical' 'physical' 'emotional' 'emotional' 'physical' 'emotional'\n",
      " 'physical' 'physical' 'emotional' 'emotional' 'physical' 'physical'\n",
      " 'physical' 'physical' 'emotional' 'emotional' 'physical' 'physical'\n",
      " 'physical' 'physical' 'physical' 'emotional' 'physical' 'emotional'\n",
      " 'emotional' 'physical' 'physical' 'physical' 'physical' 'physical'\n",
      " 'physical' 'physical' 'physical' 'physical' 'physical' 'physical'\n",
      " 'physical' 'physical' 'physical' 'emotional' 'emotional' 'emotional'\n",
      " 'emotional' 'emotional' 'physical' 'physical' 'physical' 'emotional'\n",
      " 'physical' 'physical' 'physical' 'physical' 'physical' 'physical'\n",
      " 'emotional' 'emotional' 'physical' 'emotional' 'physical' 'physical'\n",
      " 'physical' 'physical' 'emotional' 'emotional' 'emotional' 'emotional'\n",
      " 'physical' 'physical' 'physical' 'physical' 'physical' 'emotional'\n",
      " 'physical' 'physical' 'emotional' 'physical' 'physical' 'physical'\n",
      " 'physical' 'physical' 'physical' 'physical' 'physical' 'physical'\n",
      " 'physical' 'physical' 'physical' 'physical' 'physical' 'physical'\n",
      " 'physical' 'emotional' 'physical' 'emotional' 'physical' 'emotional'\n",
      " 'physical' 'emotional' 'emotional' 'physical' 'physical' 'physical'\n",
      " 'emotional' 'physical' 'physical' 'physical' 'emotional' 'physical'\n",
      " 'physical' 'physical' 'physical' 'emotional' 'emotional' 'physical'\n",
      " 'emotional' 'emotional' 'emotional' 'emotional' 'physical' 'physical'\n",
      " 'emotional' 'physical' 'physical' 'physical' 'physical' 'emotional'\n",
      " 'emotional' 'emotional' 'emotional' 'emotional' 'physical' 'physical'\n",
      " 'emotional' 'emotional' 'physical' 'emotional' 'emotional' 'emotional'\n",
      " 'emotional' 'physical' 'physical' 'emotional' 'physical' 'emotional'\n",
      " 'physical' 'physical' 'physical' 'emotional' 'emotional' 'physical'\n",
      " 'physical' 'emotional' 'physical' 'physical' 'emotional' 'emotional'\n",
      " 'emotional' 'emotional' 'emotional' 'physical' 'physical' 'emotional'\n",
      " 'physical' 'physical' 'physical' 'physical' 'physical' 'physical'\n",
      " 'physical' 'emotional' 'emotional' 'emotional' 'emotional' 'emotional'\n",
      " 'physical' 'physical' 'physical' 'emotional' 'physical' 'physical'\n",
      " 'physical' 'emotional' 'emotional' 'emotional' 'emotional' 'physical'\n",
      " 'emotional' 'physical' 'physical' 'physical' 'emotional' 'emotional'\n",
      " 'physical' 'physical' 'physical' 'emotional' 'emotional' 'physical'\n",
      " 'emotional' 'physical' 'physical' 'physical' 'physical' 'emotional'\n",
      " 'emotional' 'physical' 'physical' 'physical' 'emotional' 'emotional'\n",
      " 'physical' 'emotional' 'emotional' 'emotional' 'physical' 'physical'\n",
      " 'emotional' 'emotional' 'emotional' 'emotional' 'physical' 'physical'\n",
      " 'emotional' 'physical' 'physical' 'physical' 'physical' 'physical'\n",
      " 'emotional' 'physical' 'physical' 'physical' 'emotional' 'physical'\n",
      " 'physical' 'physical' 'emotional' 'emotional' 'physical' 'physical'\n",
      " 'physical' 'physical' 'emotional' 'physical' 'emotional' 'physical'\n",
      " 'physical' 'emotional' 'physical' 'physical' 'physical' 'physical'\n",
      " 'emotional' 'physical' 'emotional' 'physical' 'physical' 'physical'\n",
      " 'emotional' 'emotional' 'emotional' 'emotional' 'emotional' 'physical'\n",
      " 'emotional' 'emotional' 'emotional' 'emotional' 'emotional' 'emotional'\n",
      " 'emotional' 'physical' 'physical' 'emotional' 'physical' 'physical'\n",
      " 'emotional' 'physical' 'physical' 'physical' 'physical' 'physical'\n",
      " 'physical' 'physical' 'physical' 'emotional' 'physical' 'physical'\n",
      " 'physical' 'emotional' 'physical' 'physical' 'physical' 'physical'\n",
      " 'emotional' 'physical' 'physical' 'physical' 'emotional' 'physical'\n",
      " 'physical' 'emotional' 'physical' 'physical' 'physical' 'physical'\n",
      " 'physical' 'emotional' 'emotional' 'emotional' 'physical' 'physical'\n",
      " 'emotional' 'physical' 'physical' 'emotional' 'physical' 'emotional'\n",
      " 'emotional' 'physical' 'physical' 'physical' 'physical' 'physical'\n",
      " 'physical' 'emotional' 'physical' 'physical' 'emotional' 'physical'\n",
      " 'physical' 'emotional' 'emotional' 'physical' 'emotional' 'emotional'\n",
      " 'physical' 'physical' 'emotional' 'physical' 'emotional' 'physical'\n",
      " 'physical' 'emotional' 'physical' 'physical' 'emotional' 'emotional'\n",
      " 'emotional' 'physical' 'physical' 'physical' 'emotional' 'physical'\n",
      " 'emotional' 'emotional' 'emotional' 'emotional' 'physical' 'physical'\n",
      " 'physical' 'physical' 'physical' 'emotional' 'emotional' 'physical'\n",
      " 'emotional' 'emotional' 'emotional' 'emotional' 'physical' 'physical'\n",
      " 'physical' 'physical' 'physical' 'physical' 'emotional' 'physical'\n",
      " 'physical' 'emotional' 'emotional' 'physical' 'physical' 'physical'\n",
      " 'emotional' 'emotional' 'emotional' 'emotional' 'emotional' 'emotional'\n",
      " 'emotional' 'physical' 'emotional' 'emotional' 'physical' 'physical'\n",
      " 'emotional' 'emotional' 'emotional' 'physical' 'physical' 'physical'\n",
      " 'physical' 'physical' 'physical' 'physical' 'physical' 'physical'\n",
      " 'emotional' 'emotional' 'emotional' 'physical' 'emotional' 'emotional'\n",
      " 'physical' 'physical' 'emotional' 'emotional' 'physical' 'physical'\n",
      " 'emotional' 'physical' 'emotional' 'emotional' 'physical' 'emotional'\n",
      " 'physical' 'physical' 'physical' 'physical' 'physical' 'emotional'\n",
      " 'physical' 'emotional' 'emotional' 'emotional' 'physical' 'physical'\n",
      " 'emotional' 'physical' 'emotional' 'physical' 'physical' 'emotional'\n",
      " 'physical' 'emotional' 'physical' 'physical' 'physical' 'emotional'\n",
      " 'physical' 'physical' 'physical' 'physical' 'physical' 'emotional'\n",
      " 'physical' 'physical' 'emotional' 'emotional' 'emotional' 'physical'\n",
      " 'physical' 'physical' 'physical' 'physical' 'emotional' 'physical'\n",
      " 'physical' 'physical' 'emotional' 'physical' 'emotional' 'physical'\n",
      " 'physical' 'physical' 'emotional' 'physical' 'physical' 'physical'\n",
      " 'physical' 'physical' 'physical' 'physical' 'physical' 'emotional'\n",
      " 'physical' 'physical' 'physical' 'physical' 'physical' 'physical'\n",
      " 'physical' 'emotional' 'emotional' 'emotional' 'physical']\n",
      "              precision    recall  f1-score   support\n",
      "\n",
      "   emotional       0.58      0.46      0.51       390\n",
      "    physical       0.58      0.69      0.63       419\n",
      "\n",
      "    accuracy                           0.58       809\n",
      "   macro avg       0.58      0.57      0.57       809\n",
      "weighted avg       0.58      0.58      0.57       809\n",
      "\n"
     ]
    }
   ],
   "source": [
    "## We need to transform this data to the same representation\n",
    "first_fit_transformed_testdata = first_vectorizer.transform(testdata['selftext'])\n",
    "print(first_fit_transformed_testdata)\n",
    "kneighbour_predicted = kneighbour_classifier.predict(first_fit_transformed_testdata)\n",
    "print(kneighbour_predicted)\n",
    "print(metrics.classification_report(testdata['label'], kneighbour_predicted, target_names=set(testdata['label'].tolist())))"
   ]
  },
  {
   "cell_type": "markdown",
   "id": "8807323e",
   "metadata": {},
   "source": [
    "We need to use some other classifiers to check which one is better:RandomForestClassifier"
   ]
  },
  {
   "cell_type": "code",
   "execution_count": 18,
   "id": "5e9bb86e",
   "metadata": {},
   "outputs": [
    {
     "name": "stdout",
     "output_type": "stream",
     "text": [
      "  (0, 3)\t2\n",
      "  (0, 4)\t2\n",
      "  (0, 5)\t1\n",
      "  (0, 6)\t2\n",
      "  (0, 7)\t5\n",
      "  (0, 8)\t5\n",
      "  (0, 9)\t11\n",
      "  (0, 10)\t3\n",
      "  (0, 11)\t6\n",
      "  (0, 12)\t6\n",
      "  (0, 14)\t21\n",
      "  (0, 16)\t23\n",
      "  (0, 18)\t3\n",
      "  (0, 26)\t1\n",
      "  (0, 28)\t2\n",
      "  (0, 29)\t7\n",
      "  (0, 31)\t9\n",
      "  (0, 35)\t1\n",
      "  (0, 36)\t1\n",
      "  (0, 39)\t1\n",
      "  (0, 40)\t1\n",
      "  (0, 43)\t1\n",
      "  (0, 44)\t2\n",
      "  (0, 46)\t2\n",
      "  (0, 49)\t2\n",
      "  :\t:\n",
      "  (808, 464)\t2\n",
      "  (808, 465)\t8\n",
      "  (808, 467)\t2\n",
      "  (808, 468)\t9\n",
      "  (808, 471)\t3\n",
      "  (808, 472)\t1\n",
      "  (808, 473)\t2\n",
      "  (808, 474)\t12\n",
      "  (808, 475)\t5\n",
      "  (808, 477)\t2\n",
      "  (808, 480)\t2\n",
      "  (808, 482)\t9\n",
      "  (808, 483)\t3\n",
      "  (808, 484)\t14\n",
      "  (808, 485)\t1\n",
      "  (808, 487)\t1\n",
      "  (808, 488)\t1\n",
      "  (808, 489)\t1\n",
      "  (808, 490)\t5\n",
      "  (808, 492)\t5\n",
      "  (808, 494)\t3\n",
      "  (808, 495)\t7\n",
      "  (808, 496)\t1\n",
      "  (808, 498)\t146\n",
      "  (808, 499)\t40\n",
      "['emotional' 'physical' 'physical' 'physical' 'physical' 'physical'\n",
      " 'emotional' 'emotional' 'emotional' 'emotional' 'physical' 'physical'\n",
      " 'emotional' 'emotional' 'emotional' 'physical' 'physical' 'emotional'\n",
      " 'physical' 'physical' 'emotional' 'emotional' 'emotional' 'physical'\n",
      " 'emotional' 'emotional' 'emotional' 'physical' 'emotional' 'physical'\n",
      " 'emotional' 'physical' 'physical' 'physical' 'physical' 'physical'\n",
      " 'physical' 'physical' 'emotional' 'physical' 'physical' 'physical'\n",
      " 'emotional' 'physical' 'physical' 'physical' 'physical' 'physical'\n",
      " 'emotional' 'emotional' 'physical' 'physical' 'physical' 'physical'\n",
      " 'physical' 'physical' 'physical' 'emotional' 'physical' 'physical'\n",
      " 'physical' 'emotional' 'physical' 'physical' 'physical' 'physical'\n",
      " 'physical' 'physical' 'physical' 'physical' 'physical' 'physical'\n",
      " 'physical' 'emotional' 'physical' 'physical' 'emotional' 'physical'\n",
      " 'physical' 'emotional' 'physical' 'physical' 'emotional' 'emotional'\n",
      " 'physical' 'physical' 'emotional' 'physical' 'emotional' 'emotional'\n",
      " 'physical' 'physical' 'emotional' 'emotional' 'emotional' 'emotional'\n",
      " 'emotional' 'physical' 'emotional' 'emotional' 'physical' 'physical'\n",
      " 'emotional' 'physical' 'physical' 'physical' 'emotional' 'physical'\n",
      " 'physical' 'emotional' 'emotional' 'emotional' 'physical' 'emotional'\n",
      " 'emotional' 'physical' 'emotional' 'physical' 'physical' 'emotional'\n",
      " 'emotional' 'physical' 'emotional' 'emotional' 'physical' 'emotional'\n",
      " 'emotional' 'physical' 'physical' 'physical' 'physical' 'emotional'\n",
      " 'emotional' 'physical' 'emotional' 'emotional' 'physical' 'physical'\n",
      " 'physical' 'physical' 'physical' 'emotional' 'emotional' 'physical'\n",
      " 'physical' 'physical' 'physical' 'physical' 'physical' 'physical'\n",
      " 'physical' 'emotional' 'emotional' 'emotional' 'physical' 'physical'\n",
      " 'physical' 'physical' 'emotional' 'emotional' 'emotional' 'physical'\n",
      " 'physical' 'physical' 'emotional' 'emotional' 'physical' 'emotional'\n",
      " 'emotional' 'emotional' 'physical' 'physical' 'physical' 'physical'\n",
      " 'physical' 'emotional' 'emotional' 'physical' 'physical' 'emotional'\n",
      " 'physical' 'emotional' 'physical' 'emotional' 'physical' 'physical'\n",
      " 'physical' 'emotional' 'emotional' 'physical' 'emotional' 'emotional'\n",
      " 'emotional' 'physical' 'emotional' 'emotional' 'physical' 'physical'\n",
      " 'emotional' 'emotional' 'physical' 'emotional' 'emotional' 'physical'\n",
      " 'physical' 'physical' 'physical' 'emotional' 'physical' 'emotional'\n",
      " 'physical' 'physical' 'physical' 'emotional' 'physical' 'physical'\n",
      " 'physical' 'emotional' 'emotional' 'physical' 'physical' 'physical'\n",
      " 'physical' 'physical' 'emotional' 'emotional' 'emotional' 'emotional'\n",
      " 'physical' 'physical' 'emotional' 'emotional' 'physical' 'physical'\n",
      " 'physical' 'physical' 'emotional' 'physical' 'emotional' 'emotional'\n",
      " 'physical' 'physical' 'physical' 'physical' 'physical' 'physical'\n",
      " 'emotional' 'physical' 'physical' 'physical' 'emotional' 'physical'\n",
      " 'physical' 'emotional' 'physical' 'emotional' 'emotional' 'physical'\n",
      " 'physical' 'physical' 'physical' 'physical' 'physical' 'physical'\n",
      " 'physical' 'physical' 'physical' 'physical' 'physical' 'emotional'\n",
      " 'emotional' 'emotional' 'emotional' 'emotional' 'physical' 'emotional'\n",
      " 'physical' 'physical' 'emotional' 'physical' 'physical' 'physical'\n",
      " 'emotional' 'physical' 'physical' 'physical' 'physical' 'physical'\n",
      " 'emotional' 'physical' 'physical' 'emotional' 'emotional' 'physical'\n",
      " 'physical' 'emotional' 'emotional' 'emotional' 'emotional' 'physical'\n",
      " 'emotional' 'physical' 'physical' 'emotional' 'emotional' 'physical'\n",
      " 'emotional' 'physical' 'physical' 'physical' 'emotional' 'physical'\n",
      " 'emotional' 'physical' 'physical' 'physical' 'physical' 'physical'\n",
      " 'physical' 'emotional' 'emotional' 'emotional' 'emotional' 'emotional'\n",
      " 'emotional' 'physical' 'emotional' 'emotional' 'emotional' 'physical'\n",
      " 'physical' 'physical' 'emotional' 'physical' 'physical' 'emotional'\n",
      " 'physical' 'physical' 'emotional' 'physical' 'emotional' 'emotional'\n",
      " 'emotional' 'physical' 'physical' 'physical' 'physical' 'physical'\n",
      " 'emotional' 'physical' 'physical' 'emotional' 'emotional' 'emotional'\n",
      " 'emotional' 'emotional' 'physical' 'physical' 'physical' 'physical'\n",
      " 'physical' 'physical' 'emotional' 'emotional' 'emotional' 'physical'\n",
      " 'emotional' 'physical' 'emotional' 'emotional' 'physical' 'physical'\n",
      " 'physical' 'physical' 'physical' 'physical' 'physical' 'physical'\n",
      " 'physical' 'emotional' 'emotional' 'physical' 'emotional' 'emotional'\n",
      " 'emotional' 'emotional' 'physical' 'physical' 'emotional' 'physical'\n",
      " 'physical' 'physical' 'physical' 'physical' 'physical' 'physical'\n",
      " 'emotional' 'physical' 'physical' 'physical' 'physical' 'emotional'\n",
      " 'physical' 'emotional' 'physical' 'emotional' 'physical' 'emotional'\n",
      " 'physical' 'physical' 'emotional' 'emotional' 'physical' 'emotional'\n",
      " 'emotional' 'physical' 'physical' 'emotional' 'emotional' 'emotional'\n",
      " 'physical' 'physical' 'physical' 'physical' 'physical' 'physical'\n",
      " 'emotional' 'emotional' 'emotional' 'emotional' 'emotional' 'emotional'\n",
      " 'emotional' 'physical' 'emotional' 'emotional' 'physical' 'emotional'\n",
      " 'physical' 'physical' 'emotional' 'emotional' 'physical' 'emotional'\n",
      " 'emotional' 'emotional' 'physical' 'emotional' 'physical' 'emotional'\n",
      " 'emotional' 'physical' 'physical' 'physical' 'emotional' 'physical'\n",
      " 'emotional' 'emotional' 'physical' 'emotional' 'emotional' 'emotional'\n",
      " 'emotional' 'physical' 'physical' 'emotional' 'emotional' 'emotional'\n",
      " 'emotional' 'emotional' 'emotional' 'physical' 'physical' 'emotional'\n",
      " 'physical' 'physical' 'emotional' 'physical' 'emotional' 'physical'\n",
      " 'emotional' 'emotional' 'emotional' 'emotional' 'emotional' 'emotional'\n",
      " 'physical' 'emotional' 'physical' 'physical' 'physical' 'physical'\n",
      " 'physical' 'emotional' 'emotional' 'physical' 'physical' 'physical'\n",
      " 'physical' 'physical' 'physical' 'physical' 'emotional' 'physical'\n",
      " 'emotional' 'emotional' 'physical' 'physical' 'emotional' 'emotional'\n",
      " 'emotional' 'emotional' 'physical' 'physical' 'physical' 'emotional'\n",
      " 'emotional' 'emotional' 'emotional' 'physical' 'emotional' 'emotional'\n",
      " 'emotional' 'emotional' 'emotional' 'emotional' 'physical' 'physical'\n",
      " 'emotional' 'emotional' 'physical' 'emotional' 'emotional' 'emotional'\n",
      " 'emotional' 'emotional' 'emotional' 'physical' 'physical' 'physical'\n",
      " 'emotional' 'emotional' 'physical' 'physical' 'emotional' 'emotional'\n",
      " 'physical' 'physical' 'emotional' 'emotional' 'emotional' 'emotional'\n",
      " 'emotional' 'emotional' 'physical' 'physical' 'emotional' 'physical'\n",
      " 'physical' 'physical' 'physical' 'physical' 'physical' 'physical'\n",
      " 'physical' 'physical' 'physical' 'physical' 'physical' 'emotional'\n",
      " 'physical' 'physical' 'physical' 'physical' 'emotional' 'emotional'\n",
      " 'emotional' 'physical' 'emotional' 'emotional' 'emotional' 'emotional'\n",
      " 'emotional' 'physical' 'emotional' 'physical' 'physical' 'physical'\n",
      " 'emotional' 'physical' 'physical' 'emotional' 'emotional' 'physical'\n",
      " 'emotional' 'physical' 'physical' 'physical' 'physical' 'physical'\n",
      " 'emotional' 'physical' 'physical' 'physical' 'physical' 'physical'\n",
      " 'physical' 'physical' 'physical' 'emotional' 'emotional' 'emotional'\n",
      " 'physical' 'physical' 'emotional' 'emotional' 'physical' 'physical'\n",
      " 'emotional' 'emotional' 'emotional' 'emotional' 'emotional' 'emotional'\n",
      " 'physical' 'physical' 'emotional' 'emotional' 'emotional' 'physical'\n",
      " 'physical' 'emotional' 'physical' 'emotional' 'physical' 'emotional'\n",
      " 'physical' 'physical' 'emotional' 'emotional' 'physical' 'physical'\n",
      " 'physical' 'physical' 'physical' 'physical' 'emotional' 'physical'\n",
      " 'emotional' 'emotional' 'physical' 'emotional' 'emotional' 'physical'\n",
      " 'physical' 'physical' 'physical' 'emotional' 'emotional' 'emotional'\n",
      " 'emotional' 'emotional' 'emotional' 'physical' 'emotional' 'emotional'\n",
      " 'emotional' 'emotional' 'physical' 'physical' 'emotional' 'emotional'\n",
      " 'physical' 'emotional' 'emotional' 'physical' 'physical' 'emotional'\n",
      " 'physical' 'physical' 'physical' 'physical' 'physical' 'emotional'\n",
      " 'physical' 'physical' 'emotional' 'emotional' 'emotional' 'emotional'\n",
      " 'physical' 'emotional' 'emotional' 'physical' 'emotional' 'emotional'\n",
      " 'emotional' 'physical' 'emotional' 'emotional' 'emotional' 'emotional'\n",
      " 'emotional' 'emotional' 'physical' 'emotional' 'emotional' 'physical'\n",
      " 'emotional' 'emotional' 'physical' 'physical' 'physical' 'physical'\n",
      " 'physical' 'physical' 'emotional' 'emotional' 'physical' 'physical'\n",
      " 'emotional' 'emotional' 'emotional' 'emotional' 'physical' 'physical'\n",
      " 'emotional' 'physical' 'emotional' 'physical' 'emotional' 'emotional'\n",
      " 'physical' 'physical' 'emotional' 'emotional' 'physical' 'emotional'\n",
      " 'physical' 'physical' 'emotional' 'physical' 'emotional' 'physical'\n",
      " 'emotional' 'physical' 'emotional' 'emotional' 'emotional' 'physical'\n",
      " 'emotional' 'emotional' 'physical' 'physical' 'physical' 'physical'\n",
      " 'physical' 'emotional' 'physical' 'emotional' 'physical' 'emotional'\n",
      " 'physical' 'physical' 'emotional' 'emotional' 'physical' 'emotional'\n",
      " 'physical' 'physical' 'emotional' 'emotional' 'emotional' 'emotional'\n",
      " 'physical' 'emotional' 'emotional' 'emotional' 'emotional' 'physical'\n",
      " 'physical' 'physical' 'emotional' 'physical' 'physical' 'emotional'\n",
      " 'physical' 'physical' 'emotional' 'emotional' 'physical' 'physical'\n",
      " 'physical' 'physical' 'physical' 'physical' 'emotional' 'physical'\n",
      " 'emotional' 'physical' 'physical' 'physical' 'physical' 'emotional'\n",
      " 'physical' 'emotional' 'emotional' 'emotional' 'physical']\n",
      "              precision    recall  f1-score   support\n",
      "\n",
      "   emotional       0.75      0.71      0.72       390\n",
      "    physical       0.74      0.78      0.76       419\n",
      "\n",
      "    accuracy                           0.74       809\n",
      "   macro avg       0.74      0.74      0.74       809\n",
      "weighted avg       0.74      0.74      0.74       809\n",
      "\n"
     ]
    }
   ],
   "source": [
    "RandomForestClassifier = RandomForestClassifier().fit(first_fit_transformed_data, trainingdata['label'])\n",
    "\n",
    "first_fit_transformed_testdata = first_vectorizer.transform(testdata['selftext'])\n",
    "print(first_fit_transformed_testdata)\n",
    "RandomForestClassifier_predicted = RandomForestClassifier.predict(first_fit_transformed_testdata)\n",
    "print(RandomForestClassifier_predicted)\n",
    "print(metrics.classification_report(testdata['label'], RandomForestClassifier_predicted, target_names=set(testdata['label'].tolist())))\n"
   ]
  },
  {
   "cell_type": "markdown",
   "id": "737b48c8",
   "metadata": {},
   "source": [
    "You can also try other classifiers by yourself."
   ]
  },
  {
   "cell_type": "code",
   "execution_count": 19,
   "id": "c0975a02",
   "metadata": {},
   "outputs": [
    {
     "data": {
      "image/png": "[encoded data removed]",
      "text/plain": [
       "<Figure size 432x288 with 2 Axes>"
      ]
     },
     "metadata": {
      "needs_background": "light"
     },
     "output_type": "display_data"
    }
   ],
   "source": [
    "import seaborn as sns\n",
    "from sklearn.metrics import confusion_matrix, plot_confusion_matrix\n",
    "x_axis_labels = ['emotional',' physical'] # labels for x-axis\n",
    "y_axis_labels = ['emotional',' physical'] # labels for y-axis\n",
    "\n",
    "cm =confusion_matrix(testdata['label'], RandomForestClassifier_predicted)\n",
    "cm_plot = sns.heatmap(cm, cmap=\"YlGnBu\",annot=True, fmt=\"d\",xticklabels=x_axis_labels, yticklabels=y_axis_labels)\n",
    "plt.show()"
   ]
  },
  {
   "cell_type": "markdown",
   "id": "e264f903",
   "metadata": {},
   "source": [
    "# 5: N-fold cross-validation\n",
    "We can employ n-fold cross-validation on the training data to experiment with different representations, parameters, and classifiers.\n",
    "There are also various metrics that can be used to evaluate classification results."
   ]
  },
  {
   "cell_type": "code",
   "execution_count": 20,
   "id": "9f5620a5",
   "metadata": {
    "scrolled": true
   },
   "outputs": [
    {
     "data": {
      "image/png": "[encoded data removed]",
      "text/plain": [
       "<Figure size 432x288 with 1 Axes>"
      ]
     },
     "metadata": {
      "needs_background": "light"
     },
     "output_type": "display_data"
    }
   ],
   "source": [
    "from sklearn.ensemble import RandomForestClassifier\n",
    "rf_classifier = RandomForestClassifier(n_estimators=200, max_depth=3, random_state=0).fit(first_fit_transformed_data, trainingdata['label'])\n",
    "scoring = ['precision_macro', 'recall_macro','precision_micro','recall_micro', 'f1_micro', 'f1_macro']\n",
    "scores = cross_validate(rf_classifier, first_fit_transformed_data, trainingdata['label'], scoring=scoring, cv=10, return_train_score=False)\n",
    "scoresdf = pd.DataFrame(scores)\n",
    "scoring = ['test_precision_macro', 'test_recall_macro','test_precision_micro','test_recall_micro', 'test_f1_micro', 'test_f1_macro']\n",
    "bp = scoresdf.boxplot(column=scoring, grid=False, rot=45,)\n",
    "[ax_tmp.set_xlabel('') for ax_tmp in np.asarray(bp).reshape(-1)]\n",
    "fig = np.asarray(bp).reshape(-1)[0].get_figure()\n",
    "fig.suptitle('Random forest, count vectorizer')\n",
    "plt.show()"
   ]
  },
  {
   "cell_type": "markdown",
   "id": "ef363fdb",
   "metadata": {},
   "source": [
    "# 6: Another representation model: Tf-idf¶\n",
    "We have used a very simple bag-of-words representation.\n",
    " What happens if we try something else? Let's try tf-idf. \n",
    " This is considered a strong baseline in many text classification tasks."
   ]
  },
  {
   "cell_type": "code",
   "execution_count": 21,
   "id": "dc1179ad",
   "metadata": {},
   "outputs": [
    {
     "data": {
      "text/plain": [
       "<3300x23806 sparse matrix of type '<class 'numpy.float64'>'\n",
       "\twith 429242 stored elements in Compressed Sparse Row format>"
      ]
     },
     "execution_count": 21,
     "metadata": {},
     "output_type": "execute_result"
    }
   ],
   "source": [
    "stopWords = set(stopwords.words('english'))\n",
    "tfidf_vect = TfidfVectorizer(tokenizer=word_tokenize, stop_words=stopWords)\n",
    "tfidf_vect.fit(trainingdata['selftext'])\n",
    "second_fit_transformed_data =  tfidf_vect.transform(trainingdata['selftext'])\n",
    "second_fit_transformed_data"
   ]
  },
  {
   "cell_type": "code",
   "execution_count": 22,
   "id": "6d6ace0a",
   "metadata": {},
   "outputs": [
    {
     "data": {
      "image/png": "[encoded data removed]",
      "text/plain": [
       "<Figure size 432x288 with 1 Axes>"
      ]
     },
     "metadata": {
      "needs_background": "light"
     },
     "output_type": "display_data"
    }
   ],
   "source": [
    "from sklearn.ensemble import RandomForestClassifier\n",
    "rf_classifier2 = RandomForestClassifier().fit(second_fit_transformed_data, trainingdata['label'])\n",
    "scoring = ['precision_macro', 'recall_macro','precision_micro','recall_micro', 'f1_micro', 'f1_macro']\n",
    "scores = cross_validate(rf_classifier2, second_fit_transformed_data, trainingdata['label'], scoring=scoring, cv=10, return_train_score=False)\n",
    "scoresdf = pd.DataFrame(scores)\n",
    "scoring = ['test_precision_macro', 'test_recall_macro','test_precision_micro','test_recall_micro', 'test_f1_micro', 'test_f1_macro']\n",
    "bp = scoresdf.boxplot(column=scoring, grid=False, rot=45,)\n",
    "[ax_tmp.set_xlabel('') for ax_tmp in np.asarray(bp).reshape(-1)]\n",
    "fig = np.asarray(bp).reshape(-1)[0].get_figure()\n",
    "fig.suptitle('Random forest, tf-idf vectorizer')\n",
    "plt.show()"
   ]
  },
  {
   "cell_type": "markdown",
   "id": "7132f579",
   "metadata": {},
   "source": [
    "From the above figures, we can see that the performance of the applied classifiers:\n",
    " Random Forest classifier with TF-IDF > Random Forest> KNN"
   ]
  },
  {
   "cell_type": "markdown",
   "id": "a67a4e95",
   "metadata": {},
   "source": [
    "# 7: Representations: embeddings\n",
    "For the embedding representations.\n",
    "\n",
    "We will try Zeugma which is a package where you can use embeddings in sklearn. https://github.com/nkthiebaut/zeugma\n",
    "\n",
    "It allows you to directly download pre-trained models that have been released from the gensim website.\n",
    "\n",
    "Let's use a basic glove model. \n",
    " \n",
    "We will check what might be the benefit of using this type of representation instead of counts or tf-idf?"
   ]
  },
  {
   "cell_type": "code",
   "execution_count": 23,
   "id": "d22f6236",
   "metadata": {},
   "outputs": [
    {
     "name": "stdout",
     "output_type": "stream",
     "text": [
      "[[ 0.00149598  0.24452128  0.03212052 ...  0.01828046  0.03880333\n",
      "  -0.33904102]\n",
      " [-0.10445866  0.29582825  0.00678052 ...  0.01821544 -0.01101677\n",
      "  -0.39707053]\n",
      " [-0.00670537  0.21193053  0.00649034 ... -0.06387658 -0.04504449\n",
      "  -0.44949213]\n",
      " ...\n",
      " [-0.11850722  0.47486153 -0.0818975  ...  0.13647874  0.2745135\n",
      "  -0.37727502]\n",
      " [ 0.          0.          0.         ...  0.          0.\n",
      "   0.        ]\n",
      " [-0.08216101  0.34586546  0.10601629 ...  0.12640864  0.09996475\n",
      "  -0.375755  ]]\n"
     ]
    }
   ],
   "source": [
    "glove = EmbeddingTransformer('glove')\n",
    "glove_transformed_training_data = glove.transform(trainingdata['selftext'])\n",
    "print(glove_transformed_training_data)"
   ]
  },
  {
   "cell_type": "code",
   "execution_count": 24,
   "id": "69ed9410",
   "metadata": {},
   "outputs": [
    {
     "data": {
      "image/png": "[encoded data removed]",
      "text/plain": [
       "<Figure size 432x288 with 1 Axes>"
      ]
     },
     "metadata": {
      "needs_background": "light"
     },
     "output_type": "display_data"
    }
   ],
   "source": [
    "kneighbour_classifier = KNeighborsClassifier().fit(glove_transformed_training_data, trainingdata['label'])\n",
    "scoring = ['precision_macro', 'recall_macro','precision_micro','recall_micro', 'f1_micro', 'f1_macro']\n",
    "scores = cross_validate(kneighbour_classifier, glove_transformed_training_data, trainingdata['label'], scoring=scoring, cv=10, return_train_score=False)\n",
    "scoresdf = pd.DataFrame(scores)\n",
    "scoring = ['test_precision_macro', 'test_recall_macro','test_precision_micro','test_recall_micro', 'test_f1_micro', 'test_f1_macro']\n",
    "bp = scoresdf.boxplot(column=scoring, grid=False, rot=45,)\n",
    "[ax_tmp.set_xlabel('') for ax_tmp in np.asarray(bp).reshape(-1)]\n",
    "fig = np.asarray(bp).reshape(-1)[0].get_figure()\n",
    "fig.suptitle('K nearest neighbour, pre-trained embeddings')\n",
    "plt.show()"
   ]
  },
  {
   "cell_type": "code",
   "execution_count": 25,
   "id": "d2819d57",
   "metadata": {},
   "outputs": [
    {
     "data": {
      "image/png": "[encoded data removed]",
      "text/plain": [
       "<Figure size 432x288 with 1 Axes>"
      ]
     },
     "metadata": {
      "needs_background": "light"
     },
     "output_type": "display_data"
    }
   ],
   "source": [
    "from sklearn.ensemble import RandomForestClassifier\n",
    "rf_classifier3 = RandomForestClassifier().fit(glove_transformed_training_data, trainingdata['label'])\n",
    "scoring = ['precision_macro', 'recall_macro','precision_micro','recall_micro', 'f1_micro', 'f1_macro']\n",
    "scores = cross_validate(rf_classifier3, glove_transformed_training_data, trainingdata['label'], scoring=scoring, cv=10, return_train_score=False)\n",
    "scoresdf = pd.DataFrame(scores)\n",
    "scoring = ['test_precision_macro', 'test_recall_macro','test_precision_micro','test_recall_micro', 'test_f1_micro', 'test_f1_macro']\n",
    "bp = scoresdf.boxplot(column=scoring, grid=False, rot=45,)\n",
    "[ax_tmp.set_xlabel('') for ax_tmp in np.asarray(bp).reshape(-1)]\n",
    "fig = np.asarray(bp).reshape(-1)[0].get_figure()\n",
    "fig.suptitle('Random Forest, pre-trained embeddings')\n",
    "plt.show()"
   ]
  },
  {
   "cell_type": "markdown",
   "id": "4620f222",
   "metadata": {},
   "source": [
    "# 8: Classifiers, representations, evaluation\n",
    "You've now seen that you get very different results depending on which representation you use, which classifier, and also that there are many different metrics to analyse.\n",
    "\n",
    "Let's try some different configurations all in one go. We'll create a dictionary with the three different types of representations, and a list of different classification algorithms, and apply all these configurations to see what seems to yield best results according to a chosen evaluation metric using 10-fold cross validation."
   ]
  },
  {
   "cell_type": "code",
   "execution_count": 28,
   "id": "f7a1d787",
   "metadata": {},
   "outputs": [
    {
     "data": {
      "image/png": "[encoded data removed]",
      "text/plain": [
       "<Figure size 864x576 with 1 Axes>"
      ]
     },
     "metadata": {
      "needs_background": "light"
     },
     "output_type": "display_data"
    }
   ],
   "source": [
    "\n",
    "representations = {}\n",
    "\n",
    "vectorizer = CountVectorizer(ngram_range=(1,1), stop_words=None,\n",
    "                             tokenizer=word_tokenize, max_features=500)\n",
    "xtrain_countvect = vectorizer.fit_transform(trainingdata['selftext'])\n",
    "representations['CountVectorizer'] = xtrain_countvect\n",
    "\n",
    "tfidf_vect = TfidfVectorizer(tokenizer=word_tokenize, stop_words=stopWords)\n",
    "tfidf_vect.fit(trainingdata['selftext'])\n",
    "xtrain_tfidf =  tfidf_vect.transform(trainingdata['selftext'])\n",
    "representations['TfidfVectorizer'] = xtrain_tfidf\n",
    "\n",
    "x_train_glove = glove.transform(trainingdata['selftext'])\n",
    "representations['pretrained_glove'] = x_train_glove\n",
    "\n",
    "\n",
    "\n",
    "CV = 10\n",
    "\n",
    "classifier_models = [\n",
    "        RandomForestClassifier(n_estimators=200, max_depth=3, random_state=0),\n",
    "        DecisionTreeClassifier(),\n",
    "        SVC(),\n",
    "     #    LinearSVC(multi_class='ovr', C=1.0, class_weight=None, dual=True, fit_intercept=True,\n",
    "     # intercept_scaling=1, loss='squared_hinge', max_iter=1000,\n",
    "     #  penalty='l2', random_state=0, tol=1e-05, verbose=0),\n",
    "        SGDClassifier(),\n",
    "        LogisticRegression(random_state=0),\n",
    "        KNeighborsClassifier(),\n",
    "]\n",
    "\n",
    "cv_df = pd.DataFrame(index=range(CV * (len(classifier_models)*len(representations))))\n",
    "entries = []\n",
    "\n",
    "for representation, transformed_vector in representations.items():\n",
    "    score = 'f1_micro'\n",
    "    for model in classifier_models:\n",
    "      model_name = model.__class__.__name__+'_'+representation\n",
    "      accuracies = cross_val_score(model, transformed_vector, trainingdata['label'], scoring=score, cv=CV)\n",
    "      for fold_idx, accuracy in enumerate(accuracies):\n",
    "        entries.append((model_name, fold_idx, accuracy))\n",
    "cv_df = pd.DataFrame(entries, columns=['model_name', 'fold_idx', score])\n",
    "bp = cv_df.boxplot(by='model_name', column=[score], grid=False, rot=90, figsize=(12,8))\n",
    "[ax_tmp.set_xlabel('') for ax_tmp in np.asarray(bp).reshape(-1)]\n",
    "fig = np.asarray(bp).reshape(-1)[0].get_figure()\n",
    "fig.suptitle('10-fold cross validation results')\n",
    "plt.show()"
   ]
  },
  {
   "cell_type": "code",
   "execution_count": null,
   "id": "1050904c",
   "metadata": {},
   "outputs": [],
   "source": []
  },
  {
   "cell_type": "code",
   "execution_count": null,
   "id": "3362ee63",
   "metadata": {},
   "outputs": [],
   "source": []
  }
 ],
 "metadata": {
  "kernelspec": {
   "display_name": "Python 3 (ipykernel)",
   "language": "python",
   "name": "python3"
  },
  "language_info": {
   "codemirror_mode": {
    "name": "ipython",
    "version": 3
   },
   "file_extension": ".py",
   "mimetype": "text/x-python",
   "name": "python",
   "nbconvert_exporter": "python",
   "pygments_lexer": "ipython3",
   "version": "3.8.8"
  }
 },
 "nbformat": 4,
 "nbformat_minor": 5
}
